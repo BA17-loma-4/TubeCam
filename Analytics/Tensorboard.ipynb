{
 "cells": [
  {
   "cell_type": "markdown",
   "metadata": {},
   "source": [
    "### Dependencies"
   ]
  },
  {
   "cell_type": "markdown",
   "metadata": {
    "deletable": true,
    "editable": true
   },
   "source": [
    "!pip install tensorflow"
   ]
  },
  {
   "cell_type": "markdown",
   "metadata": {},
   "source": [
    "!pip install numpy scipy matplotlib"
   ]
  },
  {
   "cell_type": "markdown",
   "metadata": {},
   "source": [
    "!pip install opencv-python"
   ]
  },
  {
   "cell_type": "markdown",
   "metadata": {},
   "source": [
    "### Make predictions"
   ]
  },
  {
   "cell_type": "code",
   "execution_count": 1,
   "metadata": {
    "collapsed": false,
    "deletable": true,
    "editable": true
   },
   "outputs": [],
   "source": [
    "import sys\n",
    "sys.path.append(\"../Library\")\n",
    "\n",
    "from tubecam.tensorflow_utils import load_session_with_graph\n",
    "from tubecam.tensorflow_utils import get_confusion_matrix\n",
    "from tubecam.tensorflow_utils import predict\n",
    "from tubecam.image_utils import load_images_labels_and_paths\n",
    "\n",
    "def prediction_success(graph_path, images, image_labels, pred_labels, corresponding_data):\n",
    "    with load_session_with_graph(graph_path) as session:\n",
    "        predictions = predict(session, images)\n",
    "    return get_confusion_matrix(predictions, image_labels, pred_labels, images_paths)\n"
   ]
  },
  {
   "cell_type": "markdown",
   "metadata": {
    "deletable": true,
    "editable": true
   },
   "source": [
    "### Load Events"
   ]
  },
  {
   "cell_type": "code",
   "execution_count": 2,
   "metadata": {
    "collapsed": false,
    "deletable": true,
    "editable": true
   },
   "outputs": [],
   "source": [
    "import sys\n",
    "sys.path.append(\"../Library\")\n",
    "\n",
    "from tubecam.tensorflow_utils import load_event_scalars\n",
    "import os\n",
    "\n",
    "def load_tensorlogs(root_log_path):\n",
    "    train_log_path = os.path.join(root_log_path, \"train\")\n",
    "    train_filename = os.listdir(train_log_path)[0]\n",
    "    train_log_path = os.path.join(train_log_path, train_filename)\n",
    "\n",
    "    validation_log_path = os.path.join(root_log_path, \"validation\")\n",
    "    validation_filename = os.listdir(validation_log_path)[0]\n",
    "    validation_log_path = os.path.join(validation_log_path, validation_filename)\n",
    "\n",
    "    train_events = load_event_scalars(train_log_path, 'cross_entropy_1', 'accuracy_1')\n",
    "    validation_events = load_event_scalars(validation_log_path, 'cross_entropy_1', 'accuracy_1')\n",
    "    \n",
    "    crossentropy_events = (train_events[0], validation_events[0])\n",
    "    accuracy_events = (train_events[1], validation_events[1])\n",
    "    \n",
    "    return crossentropy_events, accuracy_events"
   ]
  },
  {
   "cell_type": "markdown",
   "metadata": {
    "deletable": true,
    "editable": true
   },
   "source": [
    "### Prepare Plots"
   ]
  },
  {
   "cell_type": "markdown",
   "metadata": {
    "deletable": true,
    "editable": true
   },
   "source": [
    "#### Eventplots"
   ]
  },
  {
   "cell_type": "code",
   "execution_count": 3,
   "metadata": {
    "collapsed": true,
    "deletable": true,
    "editable": true
   },
   "outputs": [],
   "source": [
    "import matplotlib.pyplot as plt\n",
    "\n",
    "def events_to_plotvalues(events):\n",
    "    x = [event.step for event in events]\n",
    "    y = [event.value for event in events]\n",
    "    return x, y\n",
    "\n",
    "def plot_event(events, title=\"\", x_label=\"\", y_label=\"\", axis=\"\"):\n",
    "    fig = plt.figure(1)\n",
    "    fig.suptitle(title, fontsize=20, x=1) #x=1, Ort auf der X-Achse. 1 = Centered? :P\n",
    "    \n",
    "    #Training\n",
    "    train_x, train_y = events_to_plotvalues(events[0])\n",
    "    plt.subplot(121)\n",
    "    plt.title(\"Training\")\n",
    "    plt.xlabel(x_label)\n",
    "    plt.ylabel(y_label)\n",
    "    if axis != \"\":\n",
    "        plt.axis(axis)\n",
    "    plt.plot(train_x, train_y, 'r')\n",
    "\n",
    "    #Validation\n",
    "    validation_x, validation_y = events_to_plotvalues(events[1])\n",
    "    plt.subplot(122)\n",
    "    plt.title(\"Validation\")\n",
    "    plt.xlabel(x_label)\n",
    "    plt.ylabel(y_label)\n",
    "    if axis != \"\":\n",
    "        plt.axis(axis)\n",
    "    plt.plot(validation_x, validation_y, 'b')\n",
    "\n",
    "    plt.subplots_adjust(top=0.8, bottom=0.0, left=0.00, right=2, hspace=0.25, wspace=0.2)\n",
    "    plt.show()\n",
    "\n",
    "\n",
    "def plot_crossentropy(crossentropy_events):\n",
    "    plot_event(crossentropy_events,\n",
    "               axis=\"\", # [-1000, 50000, 0, 1.4] oder [-100, 2000, 0, 1.4]\n",
    "               title=\"Crossentropy\",\n",
    "               x_label = \"Steps\",\n",
    "               y_label = \"Loss\")\n",
    "\n",
    "def plot_accuracy(accuracy_events):\n",
    "        plot_event(accuracy_events,\n",
    "               axis=\"\", # \"\" oder [-100, 2000, 0, 1.4]\n",
    "               title=\"Accuracy\",\n",
    "               x_label = \"Steps\",\n",
    "               y_label = \"Accuracy\")"
   ]
  },
  {
   "cell_type": "markdown",
   "metadata": {
    "deletable": true,
    "editable": true
   },
   "source": [
    "#### Various other Plots"
   ]
  },
  {
   "cell_type": "code",
   "execution_count": 4,
   "metadata": {
    "collapsed": false,
    "deletable": true,
    "editable": true
   },
   "outputs": [],
   "source": [
    "import matplotlib.pyplot as plt\n",
    "\n",
    "def get_accuracy_list(confusion_matrix):\n",
    "    accuracy_list = []\n",
    "    \n",
    "    for rowIndex in range(len(confusion_matrix)):\n",
    "        class_total = sum(confusion_matrix[rowIndex])\n",
    "        class_found = confusion_matrix[rowIndex][rowIndex]\n",
    "        accuracy = float(class_found) / class_total * 100\n",
    "            \n",
    "        accuracy_list.append(accuracy)\n",
    "    \n",
    "    return accuracy_list\n",
    "\n",
    "def plot_class_accuracy(confusion_matrix, label_lines):\n",
    "    keys = label_lines\n",
    "    results = get_accuracy_list(confusion_matrix)\n",
    "\n",
    "    x = range(len(keys))\n",
    "    y = results\n",
    "    labels = ['{0:.2f}%'.format(result) for result in results]\n",
    "\n",
    "    plt.barh(x, y, color=\"blue\")\n",
    "    plt.xlim([0, 100])\n",
    "    plt.yticks(x, keys)\n",
    "    \n",
    "    ax = plt.gca()\n",
    "    rects = ax.patches\n",
    "    for rect, label in zip(rects, labels):\n",
    "        width = rect.get_width()\n",
    "        ax.text(width + 6, rect.get_y() + rect.get_height()/2, label, ha='center', va='bottom')\n",
    "    \n",
    "    plt.show()"
   ]
  },
  {
   "cell_type": "code",
   "execution_count": 5,
   "metadata": {
    "collapsed": true,
    "deletable": true,
    "editable": true
   },
   "outputs": [],
   "source": [
    "import matplotlib.pyplot as plt\n",
    "import numpy as np\n",
    "\n",
    "def plot_confusion_matrix(confusion_matrix, label_lines):\n",
    "    accuracy_list = np.array(get_accuracy_list(confusion_matrix))\n",
    "    accuracy_average = np.average(accuracy_list)\n",
    "    accuracy_list = np.array(accuracy_list, dtype=np.str) # Have to stringify (floats)\n",
    "    accuracy_list_transposed = accuracy_list.reshape(len(accuracy_list), 1)\n",
    "    confusion_matrix = np.append(confusion_matrix, accuracy_list_transposed, 1)\n",
    "    total_row = [[\"\"]*len(label_lines) + [accuracy_average]]\n",
    "    confusion_matrix = np.append(confusion_matrix, total_row, 0)\n",
    "\n",
    "    colLabels = label_lines + [\"Accuracy\"]\n",
    "    rowLabels = label_lines + [\"Total\"]\n",
    "    rows = len(label_lines)+2\n",
    "    hcell, wcell = 1, 0.6\n",
    "    fig=plt.figure(figsize=(rows*wcell, rows*hcell))\n",
    "    ax = fig.add_subplot(111, frame_on=False)\n",
    "    ax.xaxis.set_visible(False)\n",
    "    ax.yaxis.set_visible(False)\n",
    "    ax.text(-2.2, 0.4, 'Ground Truth',\n",
    "        horizontalalignment='right',\n",
    "        verticalalignment='center',\n",
    "        fontsize='25',\n",
    "        rotation='vertical',\n",
    "        transform=ax.transAxes)\n",
    "    \n",
    "    ax.text(0.6, 1, 'Predicted as',\n",
    "        horizontalalignment='right',\n",
    "        verticalalignment='center',\n",
    "        fontsize='25',\n",
    "        transform=ax.transAxes)\n",
    "    \n",
    "    table = ax.table(cellText=confusion_matrix,\n",
    "              colLabels=colLabels,\n",
    "              rowLabels=rowLabels,\n",
    "              loc='center')\n",
    "    table.scale(4,4)\n",
    "    table.auto_set_font_size(False)\n",
    "    table.set_fontsize(14)\n",
    "    plt.show()\n",
    "    "
   ]
  },
  {
   "cell_type": "code",
   "execution_count": 6,
   "metadata": {
    "collapsed": true,
    "deletable": true,
    "editable": true
   },
   "outputs": [],
   "source": [
    "def print_confusion_matrix_path(confusion_matrix_paths, label_lines, show_wrong=True, show_true=True, categorized=True):\n",
    "    for rowIndex in range(len(confusion_matrix_paths)):\n",
    "        ground_truth = label_lines[rowIndex]\n",
    "        for colIndex in range(len(confusion_matrix_paths[rowIndex])):\n",
    "            predicted_as = label_lines[colIndex]\n",
    "            if (((show_true and ground_truth == predicted_as)\n",
    "                or (show_wrong and ground_truth != predicted_as))\n",
    "                and len(confusion_matrix_paths[rowIndex][colIndex]) != 0):\n",
    "                    \n",
    "                if categorized:\n",
    "                    print(\"{0} predicted as {1}:\".format(ground_truth, predicted_as))\n",
    "                print(\"\\n\".join(confusion_matrix_paths[rowIndex][colIndex]))\n",
    "                if categorized:\n",
    "                    print"
   ]
  },
  {
   "cell_type": "markdown",
   "metadata": {
    "deletable": true,
    "editable": true
   },
   "source": [
    "### Do plots"
   ]
  },
  {
   "cell_type": "code",
   "execution_count": 7,
   "metadata": {
    "collapsed": false,
    "deletable": true,
    "editable": true
   },
   "outputs": [
    {
     "data": {
      "image/png": "[encoded data removed]",
      "text/plain": [
       "<matplotlib.figure.Figure at 0x7f45e9996650>"
      ]
     },
     "metadata": {},
     "output_type": "display_data"
    },
    {
     "data": {
      "image/png": "[encoded data removed]",
      "text/plain": [
       "<matplotlib.figure.Figure at 0x7f45e6950190>"
      ]
     },
     "metadata": {},
     "output_type": "display_data"
    }
   ],
   "source": [
    "import tensorflow as tf\n",
    "\n",
    "#Tensorboard\n",
    "print(\"On Tensorboard\")\n",
    "root_log_path = \"../Training/Logs/50k/\"\n",
    "crossentropy_events, accuracy_events = load_tensorlogs(root_log_path)\n",
    "plot_crossentropy(crossentropy_events)\n",
    "plot_accuracy(accuracy_events)\n",
    "\n",
    "#Testset evaluation\n",
    "print(\"On Testset evaluation\")\n",
    "graph_path = \"../Training/Models/retrained_graph_5_classes_50k.pb\"\n",
    "labels_path = \"../Training/Models/retrained_labels_5_classes_50k.txt\"\n",
    "images_path = \"../Resources/Pictures/Test/testset/5/\"\n",
    "images, image_labels, images_paths = load_images_labels_and_paths(images_path)\n",
    "pred_labels = [line.rstrip().lstrip() for line in tf.gfile.GFile(labels_path)]\n",
    "\n",
    "confusion_matrix, confusion_matrix_paths = prediction_success(graph_path, images, image_labels, pred_labels, images_paths)\n",
    "plot_confusion_matrix(confusion_matrix, pred_labels)\n",
    "plot_class_accuracy(confusion_matrix, pred_labels)\n"
   ]
  },
  {
   "cell_type": "code",
   "execution_count": 8,
   "metadata": {
    "collapsed": false,
    "deletable": true,
    "editable": true
   },
   "outputs": [
    {
     "name": "stdout",
     "output_type": "stream",
     "text": [
      "sorex predicted as myodes glareolus:\n",
      "/notebooks/shared/Pictures/Test/testset/5/sorex/EK000082.JPG\n",
      "/notebooks/shared/Pictures/Test/testset/5/sorex/EK000127.JPG\n",
      "/notebooks/shared/Pictures/Test/testset/5/sorex/EK000268.JPG\n",
      "/notebooks/shared/Pictures/Test/testset/5/sorex/EK000535.JPG\n",
      "/notebooks/shared/Pictures/Test/testset/5/sorex/EK000770.JPG\n",
      "\n",
      "sorex predicted as apodemus sp:\n",
      "/notebooks/shared/Pictures/Test/testset/5/sorex/EK000512.JPG\n",
      "/notebooks/shared/Pictures/Test/testset/5/sorex/EK000516.JPG\n",
      "/notebooks/shared/Pictures/Test/testset/5/sorex/EK000555_3.JPG\n",
      "/notebooks/shared/Pictures/Test/testset/5/sorex/EK000718.JPG\n",
      "\n",
      "myodes glareolus predicted as mustela:\n",
      "/notebooks/shared/Pictures/Test/testset/5/myodes glareolus/13261906ZP.jpg\n",
      "\n",
      "myodes glareolus predicted as apodemus sp:\n",
      "/notebooks/shared/Pictures/Test/testset/5/myodes glareolus/EK000030_60.jpg\n",
      "/notebooks/shared/Pictures/Test/testset/5/myodes glareolus/WP147, NI18 R, CA09, 10092014EK000021.AVI_63_1.jpg\n",
      "\n",
      "myodes glareolus predicted as microtus agrestis:\n",
      "/notebooks/shared/Pictures/Test/testset/5/myodes glareolus/WP147, NI18 R, CA09, 10092014EK000055.AVI_57_1.jpg\n",
      "\n",
      "apodemus sp predicted as myodes glareolus:\n",
      "/notebooks/shared/Pictures/Test/testset/5/apodemus sp/EK000007_175.jpg\n",
      "/notebooks/shared/Pictures/Test/testset/5/apodemus sp/EK000007_176.jpg\n",
      "/notebooks/shared/Pictures/Test/testset/5/apodemus sp/EK000007_177.jpg\n",
      "/notebooks/shared/Pictures/Test/testset/5/apodemus sp/imgres.jpg\n",
      "/notebooks/shared/Pictures/Test/testset/5/apodemus sp/url.jpg\n",
      "\n",
      "apodemus sp predicted as mustela:\n",
      "/notebooks/shared/Pictures/Test/testset/5/apodemus sp/EK000034_154.jpg\n",
      "/notebooks/shared/Pictures/Test/testset/5/apodemus sp/url-1.jpg\n",
      "\n",
      "microtus agrestis predicted as myodes glareolus:\n",
      "/notebooks/shared/Pictures/Test/testset/5/microtus agrestis/26630-Field-Vole-white-background.jpg\n",
      "/notebooks/shared/Pictures/Test/testset/5/microtus agrestis/26631-Field-Vole-white-background.jpg\n",
      "/notebooks/shared/Pictures/Test/testset/5/microtus agrestis/field-vole,-short-tailed-vole-abcd.jpg\n",
      "/notebooks/shared/Pictures/Test/testset/5/microtus agrestis/Field-vole-.jpg\n",
      "/notebooks/shared/Pictures/Test/testset/5/microtus agrestis/Field-vole-eating-blade-of-grass-at-entrance-of-burrow.jpg\n",
      "/notebooks/shared/Pictures/Test/testset/5/microtus agrestis/Field-vole.jpg\n",
      "/notebooks/shared/Pictures/Test/testset/5/microtus agrestis/images.jpg\n",
      "/notebooks/shared/Pictures/Test/testset/5/microtus agrestis/Microtus agrestis 2, Aardmuis, Saxifraga-Rudmer Zwerver.jpg\n",
      "/notebooks/shared/Pictures/Test/testset/5/microtus agrestis/Microtus agrestis 5, Aardmuis, Saxifraga-Rudmer Zwerver.jpg\n",
      "/notebooks/shared/Pictures/Test/testset/5/microtus agrestis/_52679988_field_vole_1(1).jpg\n",
      "\n"
     ]
    }
   ],
   "source": [
    "print_confusion_matrix_path(confusion_matrix_paths, pred_labels, show_true=False, categorized=True)"
   ]
  },
  {
   "cell_type": "code",
   "execution_count": null,
   "metadata": {
    "collapsed": true,
    "deletable": true,
    "editable": true
   },
   "outputs": [],
   "source": []
  }
 ],
 "metadata": {
  "kernelspec": {
   "display_name": "Python 2",
   "language": "python",
   "name": "python2"
  },
  "language_info": {
   "codemirror_mode": {
    "name": "ipython",
    "version": 2
   },
   "file_extension": ".py",
   "mimetype": "text/x-python",
   "name": "python",
   "nbconvert_exporter": "python",
   "pygments_lexer": "ipython2",
   "version": "2.7.6"
  }
 },
 "nbformat": 4,
 "nbformat_minor": 2
}
